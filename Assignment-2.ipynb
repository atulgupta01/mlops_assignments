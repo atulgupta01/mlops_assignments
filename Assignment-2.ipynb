{
 "cells": [
  {
   "cell_type": "code",
   "execution_count": 1,
   "id": "0e75f123",
   "metadata": {},
   "outputs": [],
   "source": [
    "import argparse\n",
    "import os\n",
    "import pickle\n",
    "import numpy as np\n",
    "\n",
    "import pandas as pd\n",
    "from sklearn.feature_extraction import DictVectorizer\n",
    "import distutils.errors\n",
    "from hyperopt.pyll import scope\n",
    "from hyperopt import STATUS_OK, Trials, fmin, hp, tpe, space_eval\n",
    "from mlflow.entities import ViewType\n",
    "from mlflow.tracking import MlflowClient"
   ]
  },
  {
   "cell_type": "code",
   "execution_count": 2,
   "id": "e950fee5",
   "metadata": {},
   "outputs": [],
   "source": [
    "import warnings\n",
    "warnings.filterwarnings(\"ignore\")"
   ]
  },
  {
   "cell_type": "code",
   "execution_count": 3,
   "id": "8117774f",
   "metadata": {},
   "outputs": [
    {
     "data": {
      "text/plain": [
       "'1.26.1'"
      ]
     },
     "execution_count": 3,
     "metadata": {},
     "output_type": "execute_result"
    }
   ],
   "source": [
    "import mlflow\n",
    "mlflow.__version__ #Answer to first question"
   ]
  },
  {
   "cell_type": "markdown",
   "id": "1ffa298b",
   "metadata": {},
   "source": [
    "# Pre-processing Steps"
   ]
  },
  {
   "cell_type": "code",
   "execution_count": 4,
   "id": "24643908",
   "metadata": {},
   "outputs": [],
   "source": [
    "def dump_pickle(obj, filename):\n",
    "    with open(filename, \"wb\") as f_out:\n",
    "        return pickle.dump(obj, f_out)"
   ]
  },
  {
   "cell_type": "code",
   "execution_count": 5,
   "id": "13396e65",
   "metadata": {},
   "outputs": [],
   "source": [
    "def read_dataframe(filename: str):\n",
    "    df = pd.read_parquet(filename)\n",
    "\n",
    "    df['duration'] = df.lpep_dropoff_datetime - df.lpep_pickup_datetime\n",
    "    df.duration = df.duration.apply(lambda td: td.total_seconds() / 60)\n",
    "    df = df[(df.duration >= 1) & (df.duration <= 60)]\n",
    "\n",
    "    categorical = ['PULocationID', 'DOLocationID']\n",
    "    df[categorical] = df[categorical].astype(str)\n",
    "\n",
    "    return df"
   ]
  },
  {
   "cell_type": "code",
   "execution_count": 6,
   "id": "471f2c3a",
   "metadata": {},
   "outputs": [],
   "source": [
    "def preprocess(df: pd.DataFrame, dv: DictVectorizer, fit_dv: bool = False):\n",
    "    df['PU_DO'] = df['PULocationID'] + '_' + df['DOLocationID']\n",
    "    categorical = ['PU_DO']\n",
    "    numerical = ['trip_distance']\n",
    "    dicts = df[categorical + numerical].to_dict(orient='records')\n",
    "    if fit_dv:\n",
    "        X = dv.fit_transform(dicts)\n",
    "    else:\n",
    "        X = dv.transform(dicts)\n",
    "    return X, dv"
   ]
  },
  {
   "cell_type": "code",
   "execution_count": 7,
   "id": "2c69d5a0",
   "metadata": {},
   "outputs": [],
   "source": [
    "def run(raw_data_path: str, dest_path: str, dataset: str = \"green\"):\n",
    "    # load parquet files\n",
    "    df_train = read_dataframe(\n",
    "        os.path.join(raw_data_path, f\"{dataset}_tripdata_2021-01.parquet\")\n",
    "    )\n",
    "    df_valid = read_dataframe(\n",
    "        os.path.join(raw_data_path, f\"{dataset}_tripdata_2021-02.parquet\")\n",
    "    )\n",
    "    df_test = read_dataframe(\n",
    "        os.path.join(raw_data_path, f\"{dataset}_tripdata_2021-03.parquet\")\n",
    "    )\n",
    "\n",
    "    # extract the target\n",
    "    target = 'duration'\n",
    "    y_train = df_train[target].values\n",
    "    y_valid = df_valid[target].values\n",
    "    y_test = df_test[target].values\n",
    "\n",
    "    # fit the dictvectorizer and preprocess data\n",
    "    dv = DictVectorizer()\n",
    "    X_train, dv = preprocess(df_train, dv, fit_dv=True)\n",
    "    X_valid, _ = preprocess(df_valid, dv, fit_dv=False)\n",
    "    X_test, _ = preprocess(df_test, dv, fit_dv=False)\n",
    "\n",
    "    # create dest_path folder unless it already exists\n",
    "    os.makedirs(dest_path, exist_ok=True)\n",
    "\n",
    "    # save dictvectorizer and datasets\n",
    "    dump_pickle(dv, os.path.join(dest_path, \"dv.pkl\"))\n",
    "    dump_pickle((X_train, y_train), os.path.join(dest_path, \"train.pkl\"))\n",
    "    dump_pickle((X_valid, y_valid), os.path.join(dest_path, \"valid.pkl\"))\n",
    "    dump_pickle((X_test, y_test), os.path.join(dest_path, \"test.pkl\"))"
   ]
  },
  {
   "cell_type": "code",
   "execution_count": 8,
   "id": "7752f896",
   "metadata": {},
   "outputs": [],
   "source": [
    "run(\"./data/\", \"./data/assign2/\")"
   ]
  },
  {
   "cell_type": "code",
   "execution_count": 9,
   "id": "d51817e5",
   "metadata": {},
   "outputs": [
    {
     "name": "stdout",
     "output_type": "stream",
     "text": [
      "4 ['valid.pkl', 'test.pkl', 'dv.pkl', 'train.pkl']\n"
     ]
    }
   ],
   "source": [
    "lst_dir = os.listdir('./data/assign2')\n",
    "print(len(lst_dir), lst_dir) # Answer to second question"
   ]
  },
  {
   "cell_type": "markdown",
   "id": "9950c104",
   "metadata": {},
   "source": [
    "# Training Steps"
   ]
  },
  {
   "cell_type": "code",
   "execution_count": 10,
   "id": "ddae801a",
   "metadata": {},
   "outputs": [],
   "source": [
    "from sklearn.ensemble import RandomForestRegressor\n",
    "from sklearn.metrics import mean_squared_error"
   ]
  },
  {
   "cell_type": "code",
   "execution_count": 11,
   "id": "e097ce09",
   "metadata": {},
   "outputs": [],
   "source": [
    "def load_pickle(filename: str):\n",
    "    with open(filename, \"rb\") as f_in:\n",
    "        return pickle.load(f_in)"
   ]
  },
  {
   "cell_type": "code",
   "execution_count": 12,
   "id": "549a97de",
   "metadata": {},
   "outputs": [
    {
     "data": {
      "text/plain": [
       "'/home/ubuntu/mlops-zoomcamp/notebooks'"
      ]
     },
     "execution_count": 12,
     "metadata": {},
     "output_type": "execute_result"
    }
   ],
   "source": [
    "os.getcwd()"
   ]
  },
  {
   "cell_type": "code",
   "execution_count": 13,
   "id": "81056937",
   "metadata": {},
   "outputs": [
    {
     "data": {
      "text/plain": [
       "<Experiment: artifact_location='./mlruns/3', experiment_id='3', lifecycle_stage='active', name='Experiment-1', tags={}>"
      ]
     },
     "execution_count": 13,
     "metadata": {},
     "output_type": "execute_result"
    }
   ],
   "source": [
    "mlflow.set_tracking_uri(\"sqlite:///mlflow.db\")\n",
    "mlflow.set_experiment(\"Experiment-1\")"
   ]
  },
  {
   "cell_type": "code",
   "execution_count": 14,
   "id": "26774234",
   "metadata": {},
   "outputs": [],
   "source": [
    "def run_training(data_path):\n",
    "\n",
    "    X_train, y_train = load_pickle(os.path.join(data_path, \"train.pkl\"))\n",
    "    X_valid, y_valid = load_pickle(os.path.join(data_path, \"valid.pkl\"))\n",
    "    \n",
    "    mlflow.sklearn.autolog(exclusive=False)\n",
    "    \n",
    "    with mlflow.start_run():\n",
    "        mlflow.log_param(\"train-data-path\", \"/home/ubuntu/notebooks/data/green_tripdata_2021-01.parquet\")\n",
    "        mlflow.log_param(\"valid-data-path\", \"/home/ubuntu/notebooks/data/green_tripdata_2021-02.parquet\")\n",
    "        rf = RandomForestRegressor(max_depth=10, random_state=0)\n",
    "        rf.fit(X_train, y_train)\n",
    "        y_pred = rf.predict(X_valid)\n",
    "\n",
    "        rmse = mean_squared_error(y_valid, y_pred, squared=False)\n",
    "        mlflow.log_metric(\"rmse\", rmse)\n",
    "    \n",
    "    print(rmse)\n",
    "    mlflow.end_run()"
   ]
  },
  {
   "cell_type": "code",
   "execution_count": 15,
   "id": "1d4bb5c8",
   "metadata": {},
   "outputs": [
    {
     "name": "stdout",
     "output_type": "stream",
     "text": [
      "6.729070933590364\n"
     ]
    }
   ],
   "source": [
    "run_training(\"./data/assign2\")"
   ]
  },
  {
   "cell_type": "code",
   "execution_count": 16,
   "id": "85506de3",
   "metadata": {},
   "outputs": [
    {
     "data": {
      "text/plain": [
       "<Experiment: artifact_location='./mlruns/4', experiment_id='4', lifecycle_stage='active', name='Optimization-1', tags={}>"
      ]
     },
     "execution_count": 16,
     "metadata": {},
     "output_type": "execute_result"
    }
   ],
   "source": [
    "mlflow.set_experiment(\"Optimization-1\")"
   ]
  },
  {
   "cell_type": "code",
   "execution_count": 17,
   "id": "54f33bc2",
   "metadata": {},
   "outputs": [],
   "source": [
    "def run_optimize(data_path, num_trials):\n",
    "\n",
    "    X_train, y_train = load_pickle(os.path.join(data_path, \"train.pkl\"))\n",
    "    X_valid, y_valid = load_pickle(os.path.join(data_path, \"valid.pkl\"))\n",
    "\n",
    "    def objective(params):\n",
    "\n",
    "        with mlflow.start_run():\n",
    "            \n",
    "            mlflow.set_tag(\"model\",\"RF_hyp\")\n",
    "            mlflow.log_params(params)\n",
    "            rf = RandomForestRegressor(**params)\n",
    "            rf.fit(X_train, y_train)\n",
    "            y_pred = rf.predict(X_valid)\n",
    "            rmse = mean_squared_error(y_valid, y_pred, squared=False)\n",
    "            mlflow.log_metric(\"rmse\", rmse)\n",
    "            mlflow.sklearn.log_model(rf, artifact_path = \"artifacts\")\n",
    "\n",
    "        return {'loss': rmse, 'status': STATUS_OK}\n",
    "\n",
    "    search_space = {\n",
    "        'max_depth': scope.int(hp.quniform('max_depth', 1, 20, 1)),\n",
    "        'n_estimators': scope.int(hp.quniform('n_estimators', 10, 50, 1)),\n",
    "        'min_samples_split': scope.int(hp.quniform('min_samples_split', 2, 10, 1)),\n",
    "        'min_samples_leaf': scope.int(hp.quniform('min_samples_leaf', 1, 4, 1)),\n",
    "        'random_state': 10\n",
    "    }\n",
    "\n",
    "    rstate = np.random.default_rng(10)  # for reproducible results\n",
    "    fmin(\n",
    "        fn=objective,\n",
    "        space=search_space,\n",
    "        algo=tpe.suggest,\n",
    "        max_evals=num_trials,\n",
    "        trials=Trials(),\n",
    "        rstate=rstate\n",
    "    )\n",
    "    mlflow.end_run()\n"
   ]
  },
  {
   "cell_type": "code",
   "execution_count": 18,
   "id": "48834b45",
   "metadata": {},
   "outputs": [
    {
     "name": "stdout",
     "output_type": "stream",
     "text": [
      "  0%|                                                                                                                                | 0/25 [00:00<?, ?trial/s, best loss=?]"
     ]
    },
    {
     "name": "stderr",
     "output_type": "stream",
     "text": [
      "2022/05/31 04:15:04 WARNING mlflow.utils.autologging_utils: Encountered unexpected error during sklearn autologging: The following failures occurred while performing one or more logging operations: [MlflowException('Failed to perform one or more operations on the run with ID 882f8924c83c422d8cae48773028e6ac. Failed operations: [MlflowException(\"Changing param values is not allowed. Params were already logged=\\'[{\\'key\\': \\'bootstrap\\', \\'old_value\\': None, \\'new_value\\': \\'True\\'}, {\\'key\\': \\'ccp_alpha\\', \\'old_value\\': None, \\'new_value\\': \\'0.0\\'}, {\\'key\\': \\'criterion\\', \\'old_value\\': None, \\'new_value\\': \\'squared_error\\'}, {\\'key\\': \\'max_features\\', \\'old_value\\': None, \\'new_value\\': \\'auto\\'}, {\\'key\\': \\'max_leaf_nodes\\', \\'old_value\\': None, \\'new_value\\': \\'None\\'}, {\\'key\\': \\'max_samples\\', \\'old_value\\': None, \\'new_value\\': \\'None\\'}, {\\'key\\': \\'min_impurity_decrease\\', \\'old_value\\': None, \\'new_value\\': \\'0.0\\'}, {\\'key\\': \\'min_weight_fraction_leaf\\', \\'old_value\\': None, \\'new_value\\': \\'0.0\\'}, {\\'key\\': \\'n_jobs\\', \\'old_value\\': None, \\'new_value\\': \\'None\\'}, {\\'key\\': \\'oob_score\\', \\'old_value\\': None, \\'new_value\\': \\'False\\'}, {\\'key\\': \\'verbose\\', \\'old_value\\': None, \\'new_value\\': \\'0\\'}, {\\'key\\': \\'warm_start\\', \\'old_value\\': None, \\'new_value\\': \\'False\\'}]\\' for run ID=\\'882f8924c83c422d8cae48773028e6ac\\'.\")]')]\n",
      "\n"
     ]
    },
    {
     "name": "stdout",
     "output_type": "stream",
     "text": [
      "  4%|████                                                                                                   | 1/25 [00:09<03:52,  9.70s/trial, best loss: 6.721531928622503]"
     ]
    },
    {
     "name": "stderr",
     "output_type": "stream",
     "text": [
      "2022/05/31 04:15:17 WARNING mlflow.utils.autologging_utils: Encountered unexpected error during sklearn autologging: The following failures occurred while performing one or more logging operations: [MlflowException('Failed to perform one or more operations on the run with ID a5901d65af9b43e599f83a2ee0736641. Failed operations: [MlflowException(\"Changing param values is not allowed. Params were already logged=\\'[{\\'key\\': \\'bootstrap\\', \\'old_value\\': None, \\'new_value\\': \\'True\\'}, {\\'key\\': \\'ccp_alpha\\', \\'old_value\\': None, \\'new_value\\': \\'0.0\\'}, {\\'key\\': \\'criterion\\', \\'old_value\\': None, \\'new_value\\': \\'squared_error\\'}, {\\'key\\': \\'max_features\\', \\'old_value\\': None, \\'new_value\\': \\'auto\\'}, {\\'key\\': \\'max_leaf_nodes\\', \\'old_value\\': None, \\'new_value\\': \\'None\\'}, {\\'key\\': \\'max_samples\\', \\'old_value\\': None, \\'new_value\\': \\'None\\'}, {\\'key\\': \\'min_impurity_decrease\\', \\'old_value\\': None, \\'new_value\\': \\'0.0\\'}, {\\'key\\': \\'min_weight_fraction_leaf\\', \\'old_value\\': None, \\'new_value\\': \\'0.0\\'}, {\\'key\\': \\'n_jobs\\', \\'old_value\\': None, \\'new_value\\': \\'None\\'}, {\\'key\\': \\'oob_score\\', \\'old_value\\': None, \\'new_value\\': \\'False\\'}, {\\'key\\': \\'verbose\\', \\'old_value\\': None, \\'new_value\\': \\'0\\'}, {\\'key\\': \\'warm_start\\', \\'old_value\\': None, \\'new_value\\': \\'False\\'}]\\' for run ID=\\'a5901d65af9b43e599f83a2ee0736641\\'.\")]')]\n",
      "\n"
     ]
    },
    {
     "name": "stdout",
     "output_type": "stream",
     "text": [
      "  8%|████████▏                                                                                              | 2/25 [00:23<04:31, 11.82s/trial, best loss: 6.721531928622503]"
     ]
    },
    {
     "name": "stderr",
     "output_type": "stream",
     "text": [
      "2022/05/31 04:15:24 WARNING mlflow.utils.autologging_utils: Encountered unexpected error during sklearn autologging: The following failures occurred while performing one or more logging operations: [MlflowException('Failed to perform one or more operations on the run with ID d0ea562b7f4545f4b5207766e271428a. Failed operations: [MlflowException(\"Changing param values is not allowed. Params were already logged=\\'[{\\'key\\': \\'bootstrap\\', \\'old_value\\': None, \\'new_value\\': \\'True\\'}, {\\'key\\': \\'ccp_alpha\\', \\'old_value\\': None, \\'new_value\\': \\'0.0\\'}, {\\'key\\': \\'criterion\\', \\'old_value\\': None, \\'new_value\\': \\'squared_error\\'}, {\\'key\\': \\'max_features\\', \\'old_value\\': None, \\'new_value\\': \\'auto\\'}, {\\'key\\': \\'max_leaf_nodes\\', \\'old_value\\': None, \\'new_value\\': \\'None\\'}, {\\'key\\': \\'max_samples\\', \\'old_value\\': None, \\'new_value\\': \\'None\\'}, {\\'key\\': \\'min_impurity_decrease\\', \\'old_value\\': None, \\'new_value\\': \\'0.0\\'}, {\\'key\\': \\'min_weight_fraction_leaf\\', \\'old_value\\': None, \\'new_value\\': \\'0.0\\'}, {\\'key\\': \\'n_jobs\\', \\'old_value\\': None, \\'new_value\\': \\'None\\'}, {\\'key\\': \\'oob_score\\', \\'old_value\\': None, \\'new_value\\': \\'False\\'}, {\\'key\\': \\'verbose\\', \\'old_value\\': None, \\'new_value\\': \\'0\\'}, {\\'key\\': \\'warm_start\\', \\'old_value\\': None, \\'new_value\\': \\'False\\'}]\\' for run ID=\\'d0ea562b7f4545f4b5207766e271428a\\'.\")]')]\n",
      "\n"
     ]
    },
    {
     "name": "stdout",
     "output_type": "stream",
     "text": [
      " 12%|████████████▎                                                                                          | 3/25 [00:30<03:32,  9.66s/trial, best loss: 6.721531928622503]"
     ]
    },
    {
     "name": "stderr",
     "output_type": "stream",
     "text": [
      "2022/05/31 04:15:33 WARNING mlflow.utils.autologging_utils: Encountered unexpected error during sklearn autologging: The following failures occurred while performing one or more logging operations: [MlflowException('Failed to perform one or more operations on the run with ID b0baef24a4a94aebb21a20ec798670c5. Failed operations: [MlflowException(\"Changing param values is not allowed. Params were already logged=\\'[{\\'key\\': \\'bootstrap\\', \\'old_value\\': None, \\'new_value\\': \\'True\\'}, {\\'key\\': \\'ccp_alpha\\', \\'old_value\\': None, \\'new_value\\': \\'0.0\\'}, {\\'key\\': \\'criterion\\', \\'old_value\\': None, \\'new_value\\': \\'squared_error\\'}, {\\'key\\': \\'max_features\\', \\'old_value\\': None, \\'new_value\\': \\'auto\\'}, {\\'key\\': \\'max_leaf_nodes\\', \\'old_value\\': None, \\'new_value\\': \\'None\\'}, {\\'key\\': \\'max_samples\\', \\'old_value\\': None, \\'new_value\\': \\'None\\'}, {\\'key\\': \\'min_impurity_decrease\\', \\'old_value\\': None, \\'new_value\\': \\'0.0\\'}, {\\'key\\': \\'min_weight_fraction_leaf\\', \\'old_value\\': None, \\'new_value\\': \\'0.0\\'}, {\\'key\\': \\'n_jobs\\', \\'old_value\\': None, \\'new_value\\': \\'None\\'}, {\\'key\\': \\'oob_score\\', \\'old_value\\': None, \\'new_value\\': \\'False\\'}, {\\'key\\': \\'verbose\\', \\'old_value\\': None, \\'new_value\\': \\'0\\'}, {\\'key\\': \\'warm_start\\', \\'old_value\\': None, \\'new_value\\': \\'False\\'}]\\' for run ID=\\'b0baef24a4a94aebb21a20ec798670c5\\'.\")]')]\n",
      "\n"
     ]
    },
    {
     "name": "stdout",
     "output_type": "stream",
     "text": [
      " 16%|████████████████▋                                                                                       | 4/25 [00:38<03:13,  9.23s/trial, best loss: 6.69633581150215]"
     ]
    },
    {
     "name": "stderr",
     "output_type": "stream",
     "text": [
      "2022/05/31 04:15:45 WARNING mlflow.utils.autologging_utils: Encountered unexpected error during sklearn autologging: The following failures occurred while performing one or more logging operations: [MlflowException('Failed to perform one or more operations on the run with ID 16c6d34252bc435f92c8ad4df00a489d. Failed operations: [MlflowException(\"Changing param values is not allowed. Params were already logged=\\'[{\\'key\\': \\'bootstrap\\', \\'old_value\\': None, \\'new_value\\': \\'True\\'}, {\\'key\\': \\'ccp_alpha\\', \\'old_value\\': None, \\'new_value\\': \\'0.0\\'}, {\\'key\\': \\'criterion\\', \\'old_value\\': None, \\'new_value\\': \\'squared_error\\'}, {\\'key\\': \\'max_features\\', \\'old_value\\': None, \\'new_value\\': \\'auto\\'}, {\\'key\\': \\'max_leaf_nodes\\', \\'old_value\\': None, \\'new_value\\': \\'None\\'}, {\\'key\\': \\'max_samples\\', \\'old_value\\': None, \\'new_value\\': \\'None\\'}, {\\'key\\': \\'min_impurity_decrease\\', \\'old_value\\': None, \\'new_value\\': \\'0.0\\'}, {\\'key\\': \\'min_weight_fraction_leaf\\', \\'old_value\\': None, \\'new_value\\': \\'0.0\\'}, {\\'key\\': \\'n_jobs\\', \\'old_value\\': None, \\'new_value\\': \\'None\\'}, {\\'key\\': \\'oob_score\\', \\'old_value\\': None, \\'new_value\\': \\'False\\'}, {\\'key\\': \\'verbose\\', \\'old_value\\': None, \\'new_value\\': \\'0\\'}, {\\'key\\': \\'warm_start\\', \\'old_value\\': None, \\'new_value\\': \\'False\\'}]\\' for run ID=\\'16c6d34252bc435f92c8ad4df00a489d\\'.\")]')]\n",
      "\n"
     ]
    },
    {
     "name": "stdout",
     "output_type": "stream",
     "text": [
      " 20%|████████████████████▊                                                                                   | 5/25 [00:50<03:22, 10.10s/trial, best loss: 6.69633581150215]"
     ]
    },
    {
     "name": "stderr",
     "output_type": "stream",
     "text": [
      "2022/05/31 04:15:52 WARNING mlflow.utils.autologging_utils: Encountered unexpected error during sklearn autologging: The following failures occurred while performing one or more logging operations: [MlflowException('Failed to perform one or more operations on the run with ID c79c6d3bed2441919fb993dd29e13c35. Failed operations: [MlflowException(\"Changing param values is not allowed. Params were already logged=\\'[{\\'key\\': \\'bootstrap\\', \\'old_value\\': None, \\'new_value\\': \\'True\\'}, {\\'key\\': \\'ccp_alpha\\', \\'old_value\\': None, \\'new_value\\': \\'0.0\\'}, {\\'key\\': \\'criterion\\', \\'old_value\\': None, \\'new_value\\': \\'squared_error\\'}, {\\'key\\': \\'max_features\\', \\'old_value\\': None, \\'new_value\\': \\'auto\\'}, {\\'key\\': \\'max_leaf_nodes\\', \\'old_value\\': None, \\'new_value\\': \\'None\\'}, {\\'key\\': \\'max_samples\\', \\'old_value\\': None, \\'new_value\\': \\'None\\'}, {\\'key\\': \\'min_impurity_decrease\\', \\'old_value\\': None, \\'new_value\\': \\'0.0\\'}, {\\'key\\': \\'min_weight_fraction_leaf\\', \\'old_value\\': None, \\'new_value\\': \\'0.0\\'}, {\\'key\\': \\'n_jobs\\', \\'old_value\\': None, \\'new_value\\': \\'None\\'}, {\\'key\\': \\'oob_score\\', \\'old_value\\': None, \\'new_value\\': \\'False\\'}, {\\'key\\': \\'verbose\\', \\'old_value\\': None, \\'new_value\\': \\'0\\'}, {\\'key\\': \\'warm_start\\', \\'old_value\\': None, \\'new_value\\': \\'False\\'}]\\' for run ID=\\'c79c6d3bed2441919fb993dd29e13c35\\'.\")]')]\n",
      "\n"
     ]
    },
    {
     "name": "stdout",
     "output_type": "stream",
     "text": [
      " 24%|████████████████████████▉                                                                               | 6/25 [00:57<02:51,  9.03s/trial, best loss: 6.69633581150215]"
     ]
    },
    {
     "name": "stderr",
     "output_type": "stream",
     "text": [
      "2022/05/31 04:16:04 WARNING mlflow.utils.autologging_utils: Encountered unexpected error during sklearn autologging: The following failures occurred while performing one or more logging operations: [MlflowException('Failed to perform one or more operations on the run with ID d19f2f5a1a4c45a48eaf1f31b1bf9cc9. Failed operations: [MlflowException(\"Changing param values is not allowed. Params were already logged=\\'[{\\'key\\': \\'bootstrap\\', \\'old_value\\': None, \\'new_value\\': \\'True\\'}, {\\'key\\': \\'ccp_alpha\\', \\'old_value\\': None, \\'new_value\\': \\'0.0\\'}, {\\'key\\': \\'criterion\\', \\'old_value\\': None, \\'new_value\\': \\'squared_error\\'}, {\\'key\\': \\'max_features\\', \\'old_value\\': None, \\'new_value\\': \\'auto\\'}, {\\'key\\': \\'max_leaf_nodes\\', \\'old_value\\': None, \\'new_value\\': \\'None\\'}, {\\'key\\': \\'max_samples\\', \\'old_value\\': None, \\'new_value\\': \\'None\\'}, {\\'key\\': \\'min_impurity_decrease\\', \\'old_value\\': None, \\'new_value\\': \\'0.0\\'}, {\\'key\\': \\'min_weight_fraction_leaf\\', \\'old_value\\': None, \\'new_value\\': \\'0.0\\'}, {\\'key\\': \\'n_jobs\\', \\'old_value\\': None, \\'new_value\\': \\'None\\'}, {\\'key\\': \\'oob_score\\', \\'old_value\\': None, \\'new_value\\': \\'False\\'}, {\\'key\\': \\'verbose\\', \\'old_value\\': None, \\'new_value\\': \\'0\\'}, {\\'key\\': \\'warm_start\\', \\'old_value\\': None, \\'new_value\\': \\'False\\'}]\\' for run ID=\\'d19f2f5a1a4c45a48eaf1f31b1bf9cc9\\'.\")]')]\n",
      "\n"
     ]
    },
    {
     "name": "stdout",
     "output_type": "stream",
     "text": [
      " 28%|█████████████████████████████                                                                           | 7/25 [01:09<03:02, 10.11s/trial, best loss: 6.69633581150215]"
     ]
    },
    {
     "name": "stderr",
     "output_type": "stream",
     "text": [
      "2022/05/31 04:16:16 WARNING mlflow.utils.autologging_utils: Encountered unexpected error during sklearn autologging: The following failures occurred while performing one or more logging operations: [MlflowException('Failed to perform one or more operations on the run with ID f04d23010fdf40b4a453f84b38cdf0e2. Failed operations: [MlflowException(\"Changing param values is not allowed. Params were already logged=\\'[{\\'key\\': \\'bootstrap\\', \\'old_value\\': None, \\'new_value\\': \\'True\\'}, {\\'key\\': \\'ccp_alpha\\', \\'old_value\\': None, \\'new_value\\': \\'0.0\\'}, {\\'key\\': \\'criterion\\', \\'old_value\\': None, \\'new_value\\': \\'squared_error\\'}, {\\'key\\': \\'max_features\\', \\'old_value\\': None, \\'new_value\\': \\'auto\\'}, {\\'key\\': \\'max_leaf_nodes\\', \\'old_value\\': None, \\'new_value\\': \\'None\\'}, {\\'key\\': \\'max_samples\\', \\'old_value\\': None, \\'new_value\\': \\'None\\'}, {\\'key\\': \\'min_impurity_decrease\\', \\'old_value\\': None, \\'new_value\\': \\'0.0\\'}, {\\'key\\': \\'min_weight_fraction_leaf\\', \\'old_value\\': None, \\'new_value\\': \\'0.0\\'}, {\\'key\\': \\'n_jobs\\', \\'old_value\\': None, \\'new_value\\': \\'None\\'}, {\\'key\\': \\'oob_score\\', \\'old_value\\': None, \\'new_value\\': \\'False\\'}, {\\'key\\': \\'verbose\\', \\'old_value\\': None, \\'new_value\\': \\'0\\'}, {\\'key\\': \\'warm_start\\', \\'old_value\\': None, \\'new_value\\': \\'False\\'}]\\' for run ID=\\'f04d23010fdf40b4a453f84b38cdf0e2\\'.\")]')]\n",
      "\n"
     ]
    },
    {
     "name": "stdout",
     "output_type": "stream",
     "text": [
      " 32%|█████████████████████████████████▎                                                                      | 8/25 [01:21<03:03, 10.80s/trial, best loss: 6.69633581150215]"
     ]
    },
    {
     "name": "stderr",
     "output_type": "stream",
     "text": [
      "2022/05/31 04:16:24 WARNING mlflow.utils.autologging_utils: Encountered unexpected error during sklearn autologging: The following failures occurred while performing one or more logging operations: [MlflowException('Failed to perform one or more operations on the run with ID 43a3e315723d4dab8ca26b7d23627c2d. Failed operations: [MlflowException(\"Changing param values is not allowed. Params were already logged=\\'[{\\'key\\': \\'bootstrap\\', \\'old_value\\': None, \\'new_value\\': \\'True\\'}, {\\'key\\': \\'ccp_alpha\\', \\'old_value\\': None, \\'new_value\\': \\'0.0\\'}, {\\'key\\': \\'criterion\\', \\'old_value\\': None, \\'new_value\\': \\'squared_error\\'}, {\\'key\\': \\'max_features\\', \\'old_value\\': None, \\'new_value\\': \\'auto\\'}, {\\'key\\': \\'max_leaf_nodes\\', \\'old_value\\': None, \\'new_value\\': \\'None\\'}, {\\'key\\': \\'max_samples\\', \\'old_value\\': None, \\'new_value\\': \\'None\\'}, {\\'key\\': \\'min_impurity_decrease\\', \\'old_value\\': None, \\'new_value\\': \\'0.0\\'}, {\\'key\\': \\'min_weight_fraction_leaf\\', \\'old_value\\': None, \\'new_value\\': \\'0.0\\'}, {\\'key\\': \\'n_jobs\\', \\'old_value\\': None, \\'new_value\\': \\'None\\'}, {\\'key\\': \\'oob_score\\', \\'old_value\\': None, \\'new_value\\': \\'False\\'}, {\\'key\\': \\'verbose\\', \\'old_value\\': None, \\'new_value\\': \\'0\\'}, {\\'key\\': \\'warm_start\\', \\'old_value\\': None, \\'new_value\\': \\'False\\'}]\\' for run ID=\\'43a3e315723d4dab8ca26b7d23627c2d\\'.\")]')]\n",
      "\n"
     ]
    },
    {
     "name": "stdout",
     "output_type": "stream",
     "text": [
      " 36%|█████████████████████████████████████▍                                                                  | 9/25 [01:30<02:39,  9.98s/trial, best loss: 6.69633581150215]"
     ]
    },
    {
     "name": "stderr",
     "output_type": "stream",
     "text": [
      "2022/05/31 04:16:42 WARNING mlflow.utils.autologging_utils: Encountered unexpected error during sklearn autologging: The following failures occurred while performing one or more logging operations: [MlflowException('Failed to perform one or more operations on the run with ID 5674312473314d43aa73dc2a47c20003. Failed operations: [MlflowException(\"Changing param values is not allowed. Params were already logged=\\'[{\\'key\\': \\'bootstrap\\', \\'old_value\\': None, \\'new_value\\': \\'True\\'}, {\\'key\\': \\'ccp_alpha\\', \\'old_value\\': None, \\'new_value\\': \\'0.0\\'}, {\\'key\\': \\'criterion\\', \\'old_value\\': None, \\'new_value\\': \\'squared_error\\'}, {\\'key\\': \\'max_features\\', \\'old_value\\': None, \\'new_value\\': \\'auto\\'}, {\\'key\\': \\'max_leaf_nodes\\', \\'old_value\\': None, \\'new_value\\': \\'None\\'}, {\\'key\\': \\'max_samples\\', \\'old_value\\': None, \\'new_value\\': \\'None\\'}, {\\'key\\': \\'min_impurity_decrease\\', \\'old_value\\': None, \\'new_value\\': \\'0.0\\'}, {\\'key\\': \\'min_weight_fraction_leaf\\', \\'old_value\\': None, \\'new_value\\': \\'0.0\\'}, {\\'key\\': \\'n_jobs\\', \\'old_value\\': None, \\'new_value\\': \\'None\\'}, {\\'key\\': \\'oob_score\\', \\'old_value\\': None, \\'new_value\\': \\'False\\'}, {\\'key\\': \\'verbose\\', \\'old_value\\': None, \\'new_value\\': \\'0\\'}, {\\'key\\': \\'warm_start\\', \\'old_value\\': None, \\'new_value\\': \\'False\\'}]\\' for run ID=\\'5674312473314d43aa73dc2a47c20003\\'.\")]')]\n",
      "\n"
     ]
    },
    {
     "name": "stdout",
     "output_type": "stream",
     "text": [
      " 40%|█████████████████████████████████████████▏                                                             | 10/25 [01:47<03:05, 12.39s/trial, best loss: 6.65927188735058]"
     ]
    },
    {
     "name": "stderr",
     "output_type": "stream",
     "text": [
      "2022/05/31 04:16:48 WARNING mlflow.utils.autologging_utils: Encountered unexpected error during sklearn autologging: The following failures occurred while performing one or more logging operations: [MlflowException('Failed to perform one or more operations on the run with ID afef33a5411d45109caf00ad13b08d0d. Failed operations: [MlflowException(\"Changing param values is not allowed. Params were already logged=\\'[{\\'key\\': \\'bootstrap\\', \\'old_value\\': None, \\'new_value\\': \\'True\\'}, {\\'key\\': \\'ccp_alpha\\', \\'old_value\\': None, \\'new_value\\': \\'0.0\\'}, {\\'key\\': \\'criterion\\', \\'old_value\\': None, \\'new_value\\': \\'squared_error\\'}, {\\'key\\': \\'max_features\\', \\'old_value\\': None, \\'new_value\\': \\'auto\\'}, {\\'key\\': \\'max_leaf_nodes\\', \\'old_value\\': None, \\'new_value\\': \\'None\\'}, {\\'key\\': \\'max_samples\\', \\'old_value\\': None, \\'new_value\\': \\'None\\'}, {\\'key\\': \\'min_impurity_decrease\\', \\'old_value\\': None, \\'new_value\\': \\'0.0\\'}, {\\'key\\': \\'min_weight_fraction_leaf\\', \\'old_value\\': None, \\'new_value\\': \\'0.0\\'}, {\\'key\\': \\'n_jobs\\', \\'old_value\\': None, \\'new_value\\': \\'None\\'}, {\\'key\\': \\'oob_score\\', \\'old_value\\': None, \\'new_value\\': \\'False\\'}, {\\'key\\': \\'verbose\\', \\'old_value\\': None, \\'new_value\\': \\'0\\'}, {\\'key\\': \\'warm_start\\', \\'old_value\\': None, \\'new_value\\': \\'False\\'}]\\' for run ID=\\'afef33a5411d45109caf00ad13b08d0d\\'.\")]')]\n",
      "\n"
     ]
    },
    {
     "name": "stdout",
     "output_type": "stream",
     "text": [
      " 44%|█████████████████████████████████████████████▎                                                         | 11/25 [01:53<02:22, 10.20s/trial, best loss: 6.65927188735058]"
     ]
    },
    {
     "name": "stderr",
     "output_type": "stream",
     "text": [
      "2022/05/31 04:17:11 WARNING mlflow.utils.autologging_utils: Encountered unexpected error during sklearn autologging: The following failures occurred while performing one or more logging operations: [MlflowException('Failed to perform one or more operations on the run with ID 952bc0a59b7d4f8e95a3e06d992ebe42. Failed operations: [MlflowException(\"Changing param values is not allowed. Params were already logged=\\'[{\\'key\\': \\'bootstrap\\', \\'old_value\\': None, \\'new_value\\': \\'True\\'}, {\\'key\\': \\'ccp_alpha\\', \\'old_value\\': None, \\'new_value\\': \\'0.0\\'}, {\\'key\\': \\'criterion\\', \\'old_value\\': None, \\'new_value\\': \\'squared_error\\'}, {\\'key\\': \\'max_features\\', \\'old_value\\': None, \\'new_value\\': \\'auto\\'}, {\\'key\\': \\'max_leaf_nodes\\', \\'old_value\\': None, \\'new_value\\': \\'None\\'}, {\\'key\\': \\'max_samples\\', \\'old_value\\': None, \\'new_value\\': \\'None\\'}, {\\'key\\': \\'min_impurity_decrease\\', \\'old_value\\': None, \\'new_value\\': \\'0.0\\'}, {\\'key\\': \\'min_weight_fraction_leaf\\', \\'old_value\\': None, \\'new_value\\': \\'0.0\\'}, {\\'key\\': \\'n_jobs\\', \\'old_value\\': None, \\'new_value\\': \\'None\\'}, {\\'key\\': \\'oob_score\\', \\'old_value\\': None, \\'new_value\\': \\'False\\'}, {\\'key\\': \\'verbose\\', \\'old_value\\': None, \\'new_value\\': \\'0\\'}, {\\'key\\': \\'warm_start\\', \\'old_value\\': None, \\'new_value\\': \\'False\\'}]\\' for run ID=\\'952bc0a59b7d4f8e95a3e06d992ebe42\\'.\")]')]\n",
      "\n"
     ]
    },
    {
     "name": "stdout",
     "output_type": "stream",
     "text": [
      " 48%|████████████████████████████████████████████████▉                                                     | 12/25 [02:17<03:07, 14.45s/trial, best loss: 6.649712784637031]"
     ]
    },
    {
     "name": "stderr",
     "output_type": "stream",
     "text": [
      "2022/05/31 04:17:24 WARNING mlflow.utils.autologging_utils: Encountered unexpected error during sklearn autologging: The following failures occurred while performing one or more logging operations: [MlflowException('Failed to perform one or more operations on the run with ID b290ef7770f94631bf210ec578be891b. Failed operations: [MlflowException(\"Changing param values is not allowed. Params were already logged=\\'[{\\'key\\': \\'bootstrap\\', \\'old_value\\': None, \\'new_value\\': \\'True\\'}, {\\'key\\': \\'ccp_alpha\\', \\'old_value\\': None, \\'new_value\\': \\'0.0\\'}, {\\'key\\': \\'criterion\\', \\'old_value\\': None, \\'new_value\\': \\'squared_error\\'}, {\\'key\\': \\'max_features\\', \\'old_value\\': None, \\'new_value\\': \\'auto\\'}, {\\'key\\': \\'max_leaf_nodes\\', \\'old_value\\': None, \\'new_value\\': \\'None\\'}, {\\'key\\': \\'max_samples\\', \\'old_value\\': None, \\'new_value\\': \\'None\\'}, {\\'key\\': \\'min_impurity_decrease\\', \\'old_value\\': None, \\'new_value\\': \\'0.0\\'}, {\\'key\\': \\'min_weight_fraction_leaf\\', \\'old_value\\': None, \\'new_value\\': \\'0.0\\'}, {\\'key\\': \\'n_jobs\\', \\'old_value\\': None, \\'new_value\\': \\'None\\'}, {\\'key\\': \\'oob_score\\', \\'old_value\\': None, \\'new_value\\': \\'False\\'}, {\\'key\\': \\'verbose\\', \\'old_value\\': None, \\'new_value\\': \\'0\\'}, {\\'key\\': \\'warm_start\\', \\'old_value\\': None, \\'new_value\\': \\'False\\'}]\\' for run ID=\\'b290ef7770f94631bf210ec578be891b\\'.\")]')]\n",
      "\n"
     ]
    },
    {
     "name": "stdout",
     "output_type": "stream",
     "text": [
      " 52%|█████████████████████████████████████████████████████                                                 | 13/25 [02:29<02:46, 13.88s/trial, best loss: 6.649712784637031]"
     ]
    },
    {
     "name": "stderr",
     "output_type": "stream",
     "text": [
      "2022/05/31 04:17:35 WARNING mlflow.utils.autologging_utils: Encountered unexpected error during sklearn autologging: The following failures occurred while performing one or more logging operations: [MlflowException('Failed to perform one or more operations on the run with ID fd7bcf539257482c8759cfee2f2880a3. Failed operations: [MlflowException(\"Changing param values is not allowed. Params were already logged=\\'[{\\'key\\': \\'bootstrap\\', \\'old_value\\': None, \\'new_value\\': \\'True\\'}, {\\'key\\': \\'ccp_alpha\\', \\'old_value\\': None, \\'new_value\\': \\'0.0\\'}, {\\'key\\': \\'criterion\\', \\'old_value\\': None, \\'new_value\\': \\'squared_error\\'}, {\\'key\\': \\'max_features\\', \\'old_value\\': None, \\'new_value\\': \\'auto\\'}, {\\'key\\': \\'max_leaf_nodes\\', \\'old_value\\': None, \\'new_value\\': \\'None\\'}, {\\'key\\': \\'max_samples\\', \\'old_value\\': None, \\'new_value\\': \\'None\\'}, {\\'key\\': \\'min_impurity_decrease\\', \\'old_value\\': None, \\'new_value\\': \\'0.0\\'}, {\\'key\\': \\'min_weight_fraction_leaf\\', \\'old_value\\': None, \\'new_value\\': \\'0.0\\'}, {\\'key\\': \\'n_jobs\\', \\'old_value\\': None, \\'new_value\\': \\'None\\'}, {\\'key\\': \\'oob_score\\', \\'old_value\\': None, \\'new_value\\': \\'False\\'}, {\\'key\\': \\'verbose\\', \\'old_value\\': None, \\'new_value\\': \\'0\\'}, {\\'key\\': \\'warm_start\\', \\'old_value\\': None, \\'new_value\\': \\'False\\'}]\\' for run ID=\\'fd7bcf539257482c8759cfee2f2880a3\\'.\")]')]\n",
      "\n"
     ]
    },
    {
     "name": "stdout",
     "output_type": "stream",
     "text": [
      " 56%|█████████████████████████████████████████████████████████                                             | 14/25 [02:40<02:22, 13.00s/trial, best loss: 6.649712784637031]"
     ]
    },
    {
     "name": "stderr",
     "output_type": "stream",
     "text": [
      "2022/05/31 04:17:47 WARNING mlflow.utils.autologging_utils: Encountered unexpected error during sklearn autologging: The following failures occurred while performing one or more logging operations: [MlflowException('Failed to perform one or more operations on the run with ID 6b1699aeabcf46068abf901804b96f2e. Failed operations: [MlflowException(\"Changing param values is not allowed. Params were already logged=\\'[{\\'key\\': \\'bootstrap\\', \\'old_value\\': None, \\'new_value\\': \\'True\\'}, {\\'key\\': \\'ccp_alpha\\', \\'old_value\\': None, \\'new_value\\': \\'0.0\\'}, {\\'key\\': \\'criterion\\', \\'old_value\\': None, \\'new_value\\': \\'squared_error\\'}, {\\'key\\': \\'max_features\\', \\'old_value\\': None, \\'new_value\\': \\'auto\\'}, {\\'key\\': \\'max_leaf_nodes\\', \\'old_value\\': None, \\'new_value\\': \\'None\\'}, {\\'key\\': \\'max_samples\\', \\'old_value\\': None, \\'new_value\\': \\'None\\'}, {\\'key\\': \\'min_impurity_decrease\\', \\'old_value\\': None, \\'new_value\\': \\'0.0\\'}, {\\'key\\': \\'min_weight_fraction_leaf\\', \\'old_value\\': None, \\'new_value\\': \\'0.0\\'}, {\\'key\\': \\'n_jobs\\', \\'old_value\\': None, \\'new_value\\': \\'None\\'}, {\\'key\\': \\'oob_score\\', \\'old_value\\': None, \\'new_value\\': \\'False\\'}, {\\'key\\': \\'verbose\\', \\'old_value\\': None, \\'new_value\\': \\'0\\'}, {\\'key\\': \\'warm_start\\', \\'old_value\\': None, \\'new_value\\': \\'False\\'}]\\' for run ID=\\'6b1699aeabcf46068abf901804b96f2e\\'.\")]')]\n",
      "\n"
     ]
    },
    {
     "name": "stdout",
     "output_type": "stream",
     "text": [
      " 60%|█████████████████████████████████████████████████████████████▏                                        | 15/25 [02:53<02:08, 12.81s/trial, best loss: 6.649712784637031]"
     ]
    },
    {
     "name": "stderr",
     "output_type": "stream",
     "text": [
      "2022/05/31 04:18:07 WARNING mlflow.utils.autologging_utils: Encountered unexpected error during sklearn autologging: The following failures occurred while performing one or more logging operations: [MlflowException('Failed to perform one or more operations on the run with ID 7e26578a8605458785edd1bd55ea6bf6. Failed operations: [MlflowException(\"Changing param values is not allowed. Params were already logged=\\'[{\\'key\\': \\'bootstrap\\', \\'old_value\\': None, \\'new_value\\': \\'True\\'}, {\\'key\\': \\'ccp_alpha\\', \\'old_value\\': None, \\'new_value\\': \\'0.0\\'}, {\\'key\\': \\'criterion\\', \\'old_value\\': None, \\'new_value\\': \\'squared_error\\'}, {\\'key\\': \\'max_features\\', \\'old_value\\': None, \\'new_value\\': \\'auto\\'}, {\\'key\\': \\'max_leaf_nodes\\', \\'old_value\\': None, \\'new_value\\': \\'None\\'}, {\\'key\\': \\'max_samples\\', \\'old_value\\': None, \\'new_value\\': \\'None\\'}, {\\'key\\': \\'min_impurity_decrease\\', \\'old_value\\': None, \\'new_value\\': \\'0.0\\'}, {\\'key\\': \\'min_weight_fraction_leaf\\', \\'old_value\\': None, \\'new_value\\': \\'0.0\\'}, {\\'key\\': \\'n_jobs\\', \\'old_value\\': None, \\'new_value\\': \\'None\\'}, {\\'key\\': \\'oob_score\\', \\'old_value\\': None, \\'new_value\\': \\'False\\'}, {\\'key\\': \\'verbose\\', \\'old_value\\': None, \\'new_value\\': \\'0\\'}, {\\'key\\': \\'warm_start\\', \\'old_value\\': None, \\'new_value\\': \\'False\\'}]\\' for run ID=\\'7e26578a8605458785edd1bd55ea6bf6\\'.\")]')]\n",
      "\n"
     ]
    },
    {
     "name": "stdout",
     "output_type": "stream",
     "text": [
      " 64%|█████████████████████████████████████████████████████████████████▎                                    | 16/25 [03:13<02:14, 14.94s/trial, best loss: 6.649712784637031]"
     ]
    },
    {
     "name": "stderr",
     "output_type": "stream",
     "text": [
      "2022/05/31 04:18:18 WARNING mlflow.utils.autologging_utils: Encountered unexpected error during sklearn autologging: The following failures occurred while performing one or more logging operations: [MlflowException('Failed to perform one or more operations on the run with ID 10f10b005a3446b590ce4af26f778209. Failed operations: [MlflowException(\"Changing param values is not allowed. Params were already logged=\\'[{\\'key\\': \\'bootstrap\\', \\'old_value\\': None, \\'new_value\\': \\'True\\'}, {\\'key\\': \\'ccp_alpha\\', \\'old_value\\': None, \\'new_value\\': \\'0.0\\'}, {\\'key\\': \\'criterion\\', \\'old_value\\': None, \\'new_value\\': \\'squared_error\\'}, {\\'key\\': \\'max_features\\', \\'old_value\\': None, \\'new_value\\': \\'auto\\'}, {\\'key\\': \\'max_leaf_nodes\\', \\'old_value\\': None, \\'new_value\\': \\'None\\'}, {\\'key\\': \\'max_samples\\', \\'old_value\\': None, \\'new_value\\': \\'None\\'}, {\\'key\\': \\'min_impurity_decrease\\', \\'old_value\\': None, \\'new_value\\': \\'0.0\\'}, {\\'key\\': \\'min_weight_fraction_leaf\\', \\'old_value\\': None, \\'new_value\\': \\'0.0\\'}, {\\'key\\': \\'n_jobs\\', \\'old_value\\': None, \\'new_value\\': \\'None\\'}, {\\'key\\': \\'oob_score\\', \\'old_value\\': None, \\'new_value\\': \\'False\\'}, {\\'key\\': \\'verbose\\', \\'old_value\\': None, \\'new_value\\': \\'0\\'}, {\\'key\\': \\'warm_start\\', \\'old_value\\': None, \\'new_value\\': \\'False\\'}]\\' for run ID=\\'10f10b005a3446b590ce4af26f778209\\'.\")]')]\n",
      "\n"
     ]
    },
    {
     "name": "stdout",
     "output_type": "stream",
     "text": [
      " 68%|█████████████████████████████████████████████████████████████████████▎                                | 17/25 [03:23<01:48, 13.52s/trial, best loss: 6.649712784637031]"
     ]
    },
    {
     "name": "stderr",
     "output_type": "stream",
     "text": [
      "2022/05/31 04:18:39 WARNING mlflow.utils.autologging_utils: Encountered unexpected error during sklearn autologging: The following failures occurred while performing one or more logging operations: [MlflowException('Failed to perform one or more operations on the run with ID 9be2870302ad498aaa1e7519c62a0db7. Failed operations: [MlflowException(\"Changing param values is not allowed. Params were already logged=\\'[{\\'key\\': \\'bootstrap\\', \\'old_value\\': None, \\'new_value\\': \\'True\\'}, {\\'key\\': \\'ccp_alpha\\', \\'old_value\\': None, \\'new_value\\': \\'0.0\\'}, {\\'key\\': \\'criterion\\', \\'old_value\\': None, \\'new_value\\': \\'squared_error\\'}, {\\'key\\': \\'max_features\\', \\'old_value\\': None, \\'new_value\\': \\'auto\\'}, {\\'key\\': \\'max_leaf_nodes\\', \\'old_value\\': None, \\'new_value\\': \\'None\\'}, {\\'key\\': \\'max_samples\\', \\'old_value\\': None, \\'new_value\\': \\'None\\'}, {\\'key\\': \\'min_impurity_decrease\\', \\'old_value\\': None, \\'new_value\\': \\'0.0\\'}, {\\'key\\': \\'min_weight_fraction_leaf\\', \\'old_value\\': None, \\'new_value\\': \\'0.0\\'}, {\\'key\\': \\'n_jobs\\', \\'old_value\\': None, \\'new_value\\': \\'None\\'}, {\\'key\\': \\'oob_score\\', \\'old_value\\': None, \\'new_value\\': \\'False\\'}, {\\'key\\': \\'verbose\\', \\'old_value\\': None, \\'new_value\\': \\'0\\'}, {\\'key\\': \\'warm_start\\', \\'old_value\\': None, \\'new_value\\': \\'False\\'}]\\' for run ID=\\'9be2870302ad498aaa1e7519c62a0db7\\'.\")]')]\n",
      "\n"
     ]
    },
    {
     "name": "stdout",
     "output_type": "stream",
     "text": [
      " 72%|█████████████████████████████████████████████████████████████████████████▍                            | 18/25 [03:44<01:51, 15.99s/trial, best loss: 6.649254846695847]"
     ]
    },
    {
     "name": "stderr",
     "output_type": "stream",
     "text": [
      "2022/05/31 04:18:55 WARNING mlflow.utils.autologging_utils: Encountered unexpected error during sklearn autologging: The following failures occurred while performing one or more logging operations: [MlflowException('Failed to perform one or more operations on the run with ID db5f931fd1384d899b44e97f1e1c8981. Failed operations: [MlflowException(\"Changing param values is not allowed. Params were already logged=\\'[{\\'key\\': \\'bootstrap\\', \\'old_value\\': None, \\'new_value\\': \\'True\\'}, {\\'key\\': \\'ccp_alpha\\', \\'old_value\\': None, \\'new_value\\': \\'0.0\\'}, {\\'key\\': \\'criterion\\', \\'old_value\\': None, \\'new_value\\': \\'squared_error\\'}, {\\'key\\': \\'max_features\\', \\'old_value\\': None, \\'new_value\\': \\'auto\\'}, {\\'key\\': \\'max_leaf_nodes\\', \\'old_value\\': None, \\'new_value\\': \\'None\\'}, {\\'key\\': \\'max_samples\\', \\'old_value\\': None, \\'new_value\\': \\'None\\'}, {\\'key\\': \\'min_impurity_decrease\\', \\'old_value\\': None, \\'new_value\\': \\'0.0\\'}, {\\'key\\': \\'min_weight_fraction_leaf\\', \\'old_value\\': None, \\'new_value\\': \\'0.0\\'}, {\\'key\\': \\'n_jobs\\', \\'old_value\\': None, \\'new_value\\': \\'None\\'}, {\\'key\\': \\'oob_score\\', \\'old_value\\': None, \\'new_value\\': \\'False\\'}, {\\'key\\': \\'verbose\\', \\'old_value\\': None, \\'new_value\\': \\'0\\'}, {\\'key\\': \\'warm_start\\', \\'old_value\\': None, \\'new_value\\': \\'False\\'}]\\' for run ID=\\'db5f931fd1384d899b44e97f1e1c8981\\'.\")]')]\n",
      "\n"
     ]
    },
    {
     "name": "stdout",
     "output_type": "stream",
     "text": [
      " 76%|█████████████████████████████████████████████████████████████████████████████▌                        | 19/25 [04:00<01:35, 15.92s/trial, best loss: 6.649254846695847]"
     ]
    },
    {
     "name": "stderr",
     "output_type": "stream",
     "text": [
      "2022/05/31 04:19:07 WARNING mlflow.utils.autologging_utils: Encountered unexpected error during sklearn autologging: The following failures occurred while performing one or more logging operations: [MlflowException('Failed to perform one or more operations on the run with ID dbd609caadc049b88302fdee1a1bbd22. Failed operations: [MlflowException(\"Changing param values is not allowed. Params were already logged=\\'[{\\'key\\': \\'bootstrap\\', \\'old_value\\': None, \\'new_value\\': \\'True\\'}, {\\'key\\': \\'ccp_alpha\\', \\'old_value\\': None, \\'new_value\\': \\'0.0\\'}, {\\'key\\': \\'criterion\\', \\'old_value\\': None, \\'new_value\\': \\'squared_error\\'}, {\\'key\\': \\'max_features\\', \\'old_value\\': None, \\'new_value\\': \\'auto\\'}, {\\'key\\': \\'max_leaf_nodes\\', \\'old_value\\': None, \\'new_value\\': \\'None\\'}, {\\'key\\': \\'max_samples\\', \\'old_value\\': None, \\'new_value\\': \\'None\\'}, {\\'key\\': \\'min_impurity_decrease\\', \\'old_value\\': None, \\'new_value\\': \\'0.0\\'}, {\\'key\\': \\'min_weight_fraction_leaf\\', \\'old_value\\': None, \\'new_value\\': \\'0.0\\'}, {\\'key\\': \\'n_jobs\\', \\'old_value\\': None, \\'new_value\\': \\'None\\'}, {\\'key\\': \\'oob_score\\', \\'old_value\\': None, \\'new_value\\': \\'False\\'}, {\\'key\\': \\'verbose\\', \\'old_value\\': None, \\'new_value\\': \\'0\\'}, {\\'key\\': \\'warm_start\\', \\'old_value\\': None, \\'new_value\\': \\'False\\'}]\\' for run ID=\\'dbd609caadc049b88302fdee1a1bbd22\\'.\")]')]\n",
      "\n"
     ]
    },
    {
     "name": "stdout",
     "output_type": "stream",
     "text": [
      " 80%|█████████████████████████████████████████████████████████████████████████████████▌                    | 20/25 [04:12<01:13, 14.75s/trial, best loss: 6.649254846695847]"
     ]
    },
    {
     "name": "stderr",
     "output_type": "stream",
     "text": [
      "2022/05/31 04:19:47 WARNING mlflow.utils.autologging_utils: Encountered unexpected error during sklearn autologging: The following failures occurred while performing one or more logging operations: [MlflowException('Failed to perform one or more operations on the run with ID 0202e078418942808da4dc477888a786. Failed operations: [MlflowException(\"Changing param values is not allowed. Params were already logged=\\'[{\\'key\\': \\'bootstrap\\', \\'old_value\\': None, \\'new_value\\': \\'True\\'}, {\\'key\\': \\'ccp_alpha\\', \\'old_value\\': None, \\'new_value\\': \\'0.0\\'}, {\\'key\\': \\'criterion\\', \\'old_value\\': None, \\'new_value\\': \\'squared_error\\'}, {\\'key\\': \\'max_features\\', \\'old_value\\': None, \\'new_value\\': \\'auto\\'}, {\\'key\\': \\'max_leaf_nodes\\', \\'old_value\\': None, \\'new_value\\': \\'None\\'}, {\\'key\\': \\'max_samples\\', \\'old_value\\': None, \\'new_value\\': \\'None\\'}, {\\'key\\': \\'min_impurity_decrease\\', \\'old_value\\': None, \\'new_value\\': \\'0.0\\'}, {\\'key\\': \\'min_weight_fraction_leaf\\', \\'old_value\\': None, \\'new_value\\': \\'0.0\\'}, {\\'key\\': \\'n_jobs\\', \\'old_value\\': None, \\'new_value\\': \\'None\\'}, {\\'key\\': \\'oob_score\\', \\'old_value\\': None, \\'new_value\\': \\'False\\'}, {\\'key\\': \\'verbose\\', \\'old_value\\': None, \\'new_value\\': \\'0\\'}, {\\'key\\': \\'warm_start\\', \\'old_value\\': None, \\'new_value\\': \\'False\\'}]\\' for run ID=\\'0202e078418942808da4dc477888a786\\'.\")]')]\n",
      "\n"
     ]
    },
    {
     "name": "stdout",
     "output_type": "stream",
     "text": [
      " 84%|█████████████████████████████████████████████████████████████████████████████████████▋                | 21/25 [04:53<01:29, 22.40s/trial, best loss: 6.628204285116205]"
     ]
    },
    {
     "name": "stderr",
     "output_type": "stream",
     "text": [
      "2022/05/31 04:20:22 WARNING mlflow.utils.autologging_utils: Encountered unexpected error during sklearn autologging: The following failures occurred while performing one or more logging operations: [MlflowException('Failed to perform one or more operations on the run with ID 27e958e5d8cb4c67a24766f3f1357113. Failed operations: [MlflowException(\"Changing param values is not allowed. Params were already logged=\\'[{\\'key\\': \\'bootstrap\\', \\'old_value\\': None, \\'new_value\\': \\'True\\'}, {\\'key\\': \\'ccp_alpha\\', \\'old_value\\': None, \\'new_value\\': \\'0.0\\'}, {\\'key\\': \\'criterion\\', \\'old_value\\': None, \\'new_value\\': \\'squared_error\\'}, {\\'key\\': \\'max_features\\', \\'old_value\\': None, \\'new_value\\': \\'auto\\'}, {\\'key\\': \\'max_leaf_nodes\\', \\'old_value\\': None, \\'new_value\\': \\'None\\'}, {\\'key\\': \\'max_samples\\', \\'old_value\\': None, \\'new_value\\': \\'None\\'}, {\\'key\\': \\'min_impurity_decrease\\', \\'old_value\\': None, \\'new_value\\': \\'0.0\\'}, {\\'key\\': \\'min_weight_fraction_leaf\\', \\'old_value\\': None, \\'new_value\\': \\'0.0\\'}, {\\'key\\': \\'n_jobs\\', \\'old_value\\': None, \\'new_value\\': \\'None\\'}, {\\'key\\': \\'oob_score\\', \\'old_value\\': None, \\'new_value\\': \\'False\\'}, {\\'key\\': \\'verbose\\', \\'old_value\\': None, \\'new_value\\': \\'0\\'}, {\\'key\\': \\'warm_start\\', \\'old_value\\': None, \\'new_value\\': \\'False\\'}]\\' for run ID=\\'27e958e5d8cb4c67a24766f3f1357113\\'.\")]')]\n",
      "\n"
     ]
    },
    {
     "name": "stdout",
     "output_type": "stream",
     "text": [
      " 88%|████████████████████████████████████████████████████████████████████████████████████████▉            | 22/25 [05:27<01:18, 26.16s/trial, best loss: 6.6257436134903935]"
     ]
    },
    {
     "name": "stderr",
     "output_type": "stream",
     "text": [
      "2022/05/31 04:20:27 WARNING mlflow.utils.autologging_utils: Encountered unexpected error during sklearn autologging: The following failures occurred while performing one or more logging operations: [MlflowException('Failed to perform one or more operations on the run with ID 55b8eaf888ee4ac69c4af065b299db23. Failed operations: [MlflowException(\"Changing param values is not allowed. Params were already logged=\\'[{\\'key\\': \\'bootstrap\\', \\'old_value\\': None, \\'new_value\\': \\'True\\'}, {\\'key\\': \\'ccp_alpha\\', \\'old_value\\': None, \\'new_value\\': \\'0.0\\'}, {\\'key\\': \\'criterion\\', \\'old_value\\': None, \\'new_value\\': \\'squared_error\\'}, {\\'key\\': \\'max_features\\', \\'old_value\\': None, \\'new_value\\': \\'auto\\'}, {\\'key\\': \\'max_leaf_nodes\\', \\'old_value\\': None, \\'new_value\\': \\'None\\'}, {\\'key\\': \\'max_samples\\', \\'old_value\\': None, \\'new_value\\': \\'None\\'}, {\\'key\\': \\'min_impurity_decrease\\', \\'old_value\\': None, \\'new_value\\': \\'0.0\\'}, {\\'key\\': \\'min_weight_fraction_leaf\\', \\'old_value\\': None, \\'new_value\\': \\'0.0\\'}, {\\'key\\': \\'n_jobs\\', \\'old_value\\': None, \\'new_value\\': \\'None\\'}, {\\'key\\': \\'oob_score\\', \\'old_value\\': None, \\'new_value\\': \\'False\\'}, {\\'key\\': \\'verbose\\', \\'old_value\\': None, \\'new_value\\': \\'0\\'}, {\\'key\\': \\'warm_start\\', \\'old_value\\': None, \\'new_value\\': \\'False\\'}]\\' for run ID=\\'55b8eaf888ee4ac69c4af065b299db23\\'.\")]')]\n",
      "\n"
     ]
    },
    {
     "name": "stdout",
     "output_type": "stream",
     "text": [
      " 92%|████████████████████████████████████████████████████████████████████████████████████████████▉        | 23/25 [05:32<00:39, 19.76s/trial, best loss: 6.6257436134903935]"
     ]
    },
    {
     "name": "stderr",
     "output_type": "stream",
     "text": [
      "2022/05/31 04:21:07 WARNING mlflow.utils.autologging_utils: Encountered unexpected error during sklearn autologging: The following failures occurred while performing one or more logging operations: [MlflowException('Failed to perform one or more operations on the run with ID ce9766783d08465ab815fb035ea8f9b5. Failed operations: [MlflowException(\"Changing param values is not allowed. Params were already logged=\\'[{\\'key\\': \\'bootstrap\\', \\'old_value\\': None, \\'new_value\\': \\'True\\'}, {\\'key\\': \\'ccp_alpha\\', \\'old_value\\': None, \\'new_value\\': \\'0.0\\'}, {\\'key\\': \\'criterion\\', \\'old_value\\': None, \\'new_value\\': \\'squared_error\\'}, {\\'key\\': \\'max_features\\', \\'old_value\\': None, \\'new_value\\': \\'auto\\'}, {\\'key\\': \\'max_leaf_nodes\\', \\'old_value\\': None, \\'new_value\\': \\'None\\'}, {\\'key\\': \\'max_samples\\', \\'old_value\\': None, \\'new_value\\': \\'None\\'}, {\\'key\\': \\'min_impurity_decrease\\', \\'old_value\\': None, \\'new_value\\': \\'0.0\\'}, {\\'key\\': \\'min_weight_fraction_leaf\\', \\'old_value\\': None, \\'new_value\\': \\'0.0\\'}, {\\'key\\': \\'n_jobs\\', \\'old_value\\': None, \\'new_value\\': \\'None\\'}, {\\'key\\': \\'oob_score\\', \\'old_value\\': None, \\'new_value\\': \\'False\\'}, {\\'key\\': \\'verbose\\', \\'old_value\\': None, \\'new_value\\': \\'0\\'}, {\\'key\\': \\'warm_start\\', \\'old_value\\': None, \\'new_value\\': \\'False\\'}]\\' for run ID=\\'ce9766783d08465ab815fb035ea8f9b5\\'.\")]')]\n",
      "\n"
     ]
    },
    {
     "name": "stdout",
     "output_type": "stream",
     "text": [
      " 96%|████████████████████████████████████████████████████████████████████████████████████████████████▉    | 24/25 [06:13<00:25, 25.96s/trial, best loss: 6.6257436134903935]"
     ]
    },
    {
     "name": "stderr",
     "output_type": "stream",
     "text": [
      "2022/05/31 04:21:36 WARNING mlflow.utils.autologging_utils: Encountered unexpected error during sklearn autologging: The following failures occurred while performing one or more logging operations: [MlflowException('Failed to perform one or more operations on the run with ID 5fb721c544ec4bd6873c59342f58c964. Failed operations: [MlflowException(\"Changing param values is not allowed. Params were already logged=\\'[{\\'key\\': \\'bootstrap\\', \\'old_value\\': None, \\'new_value\\': \\'True\\'}, {\\'key\\': \\'ccp_alpha\\', \\'old_value\\': None, \\'new_value\\': \\'0.0\\'}, {\\'key\\': \\'criterion\\', \\'old_value\\': None, \\'new_value\\': \\'squared_error\\'}, {\\'key\\': \\'max_features\\', \\'old_value\\': None, \\'new_value\\': \\'auto\\'}, {\\'key\\': \\'max_leaf_nodes\\', \\'old_value\\': None, \\'new_value\\': \\'None\\'}, {\\'key\\': \\'max_samples\\', \\'old_value\\': None, \\'new_value\\': \\'None\\'}, {\\'key\\': \\'min_impurity_decrease\\', \\'old_value\\': None, \\'new_value\\': \\'0.0\\'}, {\\'key\\': \\'min_weight_fraction_leaf\\', \\'old_value\\': None, \\'new_value\\': \\'0.0\\'}, {\\'key\\': \\'n_jobs\\', \\'old_value\\': None, \\'new_value\\': \\'None\\'}, {\\'key\\': \\'oob_score\\', \\'old_value\\': None, \\'new_value\\': \\'False\\'}, {\\'key\\': \\'verbose\\', \\'old_value\\': None, \\'new_value\\': \\'0\\'}, {\\'key\\': \\'warm_start\\', \\'old_value\\': None, \\'new_value\\': \\'False\\'}]\\' for run ID=\\'5fb721c544ec4bd6873c59342f58c964\\'.\")]')]\n",
      "\n"
     ]
    },
    {
     "name": "stdout",
     "output_type": "stream",
     "text": [
      "100%|█████████████████████████████████████████████████████████████████████████████████████████████████████| 25/25 [06:42<00:00, 16.09s/trial, best loss: 6.6257436134903935]\n"
     ]
    }
   ],
   "source": [
    "run_optimize(\"./data/assign2\", 25)"
   ]
  },
  {
   "cell_type": "code",
   "execution_count": 19,
   "id": "c0dcc623",
   "metadata": {},
   "outputs": [
    {
     "data": {
      "text/plain": [
       "<Experiment: artifact_location='./mlruns/5', experiment_id='5', lifecycle_stage='active', name='Register_model-1', tags={}>"
      ]
     },
     "execution_count": 19,
     "metadata": {},
     "output_type": "execute_result"
    }
   ],
   "source": [
    "mlflow.set_experiment(\"Register_model-1\")"
   ]
  },
  {
   "cell_type": "code",
   "execution_count": 20,
   "id": "8c76b3bd",
   "metadata": {},
   "outputs": [],
   "source": [
    "SPACE = {\n",
    "    'max_depth': scope.int(hp.quniform('max_depth', 1, 20, 1)),\n",
    "    'n_estimators': scope.int(hp.quniform('n_estimators', 10, 50, 1)),\n",
    "    'min_samples_split': scope.int(hp.quniform('min_samples_split', 2, 10, 1)),\n",
    "    'min_samples_leaf': scope.int(hp.quniform('min_samples_leaf', 1, 4, 1)),\n",
    "    'random_state': 10\n",
    "}"
   ]
  },
  {
   "cell_type": "code",
   "execution_count": 21,
   "id": "f73e1983",
   "metadata": {},
   "outputs": [],
   "source": [
    "mlflow.set_tracking_uri(\"http://127.0.0.1:5000\")\n",
    "\n",
    "def train_and_log_model(data_path, params):\n",
    "    X_train, y_train = load_pickle(os.path.join(data_path, \"train.pkl\"))\n",
    "    X_valid, y_valid = load_pickle(os.path.join(data_path, \"valid.pkl\"))\n",
    "    X_test, y_test = load_pickle(os.path.join(data_path, \"test.pkl\"))\n",
    "\n",
    "    with mlflow.start_run():\n",
    "        params = space_eval(SPACE, params)\n",
    "        rf = RandomForestRegressor(**params)\n",
    "        rf.fit(X_train, y_train)\n",
    "\n",
    "        # evaluate model on the validation and test sets\n",
    "        valid_rmse = mean_squared_error(y_valid, rf.predict(X_valid), squared=False)\n",
    "        mlflow.log_metric(\"valid_rmse\", valid_rmse)\n",
    "        test_rmse = mean_squared_error(y_test, rf.predict(X_test), squared=False)\n",
    "        mlflow.log_metric(\"test_rmse\", test_rmse)\n",
    "\n",
    "\n",
    "def run_regiater_model(data_path, log_top):\n",
    "\n",
    "    client = MlflowClient()\n",
    "\n",
    "    # retrieve the top_n model runs and log the models to MLflow\n",
    "    experiment = client.get_experiment_by_name(\"Optimization-1\")\n",
    "    runs = client.search_runs(\n",
    "        experiment_ids=experiment.experiment_id,\n",
    "        run_view_type=ViewType.ACTIVE_ONLY,\n",
    "        max_results=log_top,\n",
    "        order_by=[\"metrics.rmse ASC\"]\n",
    "    )\n",
    "    for run in runs:\n",
    "        train_and_log_model(data_path=data_path, params=run.data.params)\n",
    "\n",
    "    # Identify model with the lowest test RMSE\n",
    "    experiment = client.get_experiment_by_name(\"Register_model-1\")\n",
    "    best_run = client.search_runs(experiment_ids = experiment.experiment_id,\n",
    "            run_view_type = ViewType.ACTIVE_ONLY,\n",
    "            max_results=log_top,\n",
    "            order_by=[\"metrics.test_rmse ASC\"])[0]\n",
    "\n",
    "    # register the best model\n",
    "    run = f\"runs/{best_run.info.run_id}/model\"\n",
    "    mlflow.register_model(model_uri = run, name = f\"Registered model_{best_run.info.run_id}\" )"
   ]
  },
  {
   "cell_type": "code",
   "execution_count": 22,
   "id": "0020adda",
   "metadata": {},
   "outputs": [
    {
     "name": "stderr",
     "output_type": "stream",
     "text": [
      "Successfully registered model 'Registered model_82695c6930c2493392922d91d4674b16'.\n",
      "2022/05/31 04:24:17 INFO mlflow.tracking._model_registry.client: Waiting up to 300 seconds for model version to finish creation.                     Model name: Registered model_82695c6930c2493392922d91d4674b16, version 1\n",
      "Created version '1' of model 'Registered model_82695c6930c2493392922d91d4674b16'.\n"
     ]
    }
   ],
   "source": [
    "run_regiater_model(\"./data/assign2\", 5)"
   ]
  },
  {
   "cell_type": "code",
   "execution_count": null,
   "id": "665c63a3",
   "metadata": {},
   "outputs": [],
   "source": []
  }
 ],
 "metadata": {
  "kernelspec": {
   "display_name": "Python 3 (ipykernel)",
   "language": "python",
   "name": "python3"
  },
  "language_info": {
   "codemirror_mode": {
    "name": "ipython",
    "version": 3
   },
   "file_extension": ".py",
   "mimetype": "text/x-python",
   "name": "python",
   "nbconvert_exporter": "python",
   "pygments_lexer": "ipython3",
   "version": "3.9.12"
  }
 },
 "nbformat": 4,
 "nbformat_minor": 5
}
